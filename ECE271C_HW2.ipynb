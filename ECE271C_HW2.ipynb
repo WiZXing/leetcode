{
  "nbformat": 4,
  "nbformat_minor": 0,
  "metadata": {
    "colab": {
      "name": "ECE271C_HW2.ipynb",
      "version": "0.3.2",
      "provenance": [],
      "include_colab_link": true
    },
    "kernelspec": {
      "name": "python3",
      "display_name": "Python 3"
    }
  },
  "cells": [
    {
      "cell_type": "markdown",
      "metadata": {
        "id": "view-in-github",
        "colab_type": "text"
      },
      "source": [
        "<a href=\"https://colab.research.google.com/github/WiZXing/leetcode/blob/master/ECE271C_HW2.ipynb\" target=\"_parent\"><img src=\"https://colab.research.google.com/assets/colab-badge.svg\" alt=\"Open In Colab\"/></a>"
      ]
    },
    {
      "metadata": {
        "id": "5w8I9fvSdxda",
        "colab_type": "code",
        "outputId": "4922bccd-d7d6-45dd-ccbd-660a71c542fa",
        "colab": {
          "base_uri": "https://localhost:8080/",
          "height": 85
        }
      },
      "cell_type": "code",
      "source": [
        "# Load MNIST Dataset\n",
        "import numpy as np\n",
        "\n",
        "from tensorflow.examples.tutorials.mnist import input_data\n",
        "\n",
        "\n",
        "mnist = input_data.read_data_sets(\"MNIST_data/\", one_hot=False)\n",
        "\n",
        "x_train = np.vstack([img.reshape(-1,) for img in mnist.train.images])\n",
        "y_train = mnist.train.labels\n",
        "\n",
        "x_test = np.vstack([img.reshape(-1,) for img in mnist.test.images])\n",
        "y_test = mnist.test.labels\n"
      ],
      "execution_count": 48,
      "outputs": [
        {
          "output_type": "stream",
          "text": [
            "Extracting MNIST_data/train-images-idx3-ubyte.gz\n",
            "Extracting MNIST_data/train-labels-idx1-ubyte.gz\n",
            "Extracting MNIST_data/t10k-images-idx3-ubyte.gz\n",
            "Extracting MNIST_data/t10k-labels-idx1-ubyte.gz\n"
          ],
          "name": "stdout"
        }
      ]
    },
    {
      "metadata": {
        "id": "8TjgUhpIEPLF",
        "colab_type": "code",
        "outputId": "480224b7-b1d9-49a3-8afd-be162e89d712",
        "colab": {
          "base_uri": "https://localhost:8080/",
          "height": 255
        }
      },
      "cell_type": "code",
      "source": [
        "# Initialize\n",
        "N = x_train.shape[0]\n",
        "D = x_train.shape[1]\n",
        "K = 10\n",
        "x = np.transpose(x_train)\n",
        "x = x / np.linalg.norm(x, axis = 0)\n",
        "# x D*N\n",
        "\n",
        "choice = np.array([14,36,33,18,4,9,7,8,16,28])\n",
        "# np.random.choice(N,K,replace=False)\n",
        "mu = x[:,choice]\n",
        "mu = mu / np.linalg.norm(mu,axis = 0)\n",
        "# mu D*K\n",
        "\n",
        "# Plot the means\n",
        "import matplotlib.pyplot as plt\n",
        "fig = plt.figure()\n",
        "for i in range(K):\n",
        "  plt.subplot(3,4,i+1)\n",
        "  plt.imshow(mu[:,i].reshape((28,28)), cmap='gray', interpolation='none')\n",
        "  plt.xticks([])\n",
        "  plt.yticks([])"
      ],
      "execution_count": 5,
      "outputs": [
        {
          "output_type": "display_data",
          "data": {
            "image/png": "[encoded data removed]",
            "text/plain": [
              "<Figure size 432x288 with 10 Axes>"
            ]
          },
          "metadata": {
            "tags": []
          }
        }
      ]
    },
    {
      "metadata": {
        "id": "Ovs-qwJvd_Ql",
        "colab_type": "code",
        "colab": {}
      },
      "cell_type": "code",
      "source": [
        "# K-means\n",
        "N = x_train.shape[0]\n",
        "D = x_train.shape[1]\n",
        "K = 10\n",
        "idx = np.arange(N)\n",
        "mu = mu / np.linalg.norm(mu,axis = 0)\n",
        "# for i in range(K):\n",
        "#   print(np.linalg.norm(mu[:,i]))\n",
        "\n",
        "import time\n",
        "# Start\n",
        "# ticks_start = time.time()\n",
        "# print(\"Start Time: {}\"\n",
        "#       .format(time.strftime(\"%H:%M:%S\", time.gmtime(ticks_start))))\n",
        "\n",
        "for iters in range(2000) :\n",
        "  A = np.transpose(mu)\n",
        "  # A K*D\n",
        "  z = np.matmul(A,x)\n",
        "  # z K*N\n",
        "  k = np.argmax(z, axis=0)\n",
        "  \n",
        "#   Ek = np.zeros((N,K))\n",
        "#   Ek[idx,k[idx]] = 1\n",
        "#   new_mu = np.matmul(x, Ek)\n",
        "  \n",
        "  \n",
        "  new_mu = np.zeros((D,K))\n",
        "  for i in range(N):\n",
        "    new_mu[:,k[i]] = new_mu[:,k[i]] + x[:,i]\n",
        "  # new_mu D*K  \n",
        "  sum = 0\n",
        "  for i in range(K):\n",
        "    new_mu[:,i] = new_mu[:,i] / np.sum(k == i)\n",
        "  mu = new_mu / np.linalg.norm(new_mu,axis = 0)\n",
        "  \n",
        "  B = mu\n",
        "\n",
        "  # B D*K\n",
        "  \n",
        "# End\n",
        "# ticks_end = time.time()\n",
        "# print(\"End Time: {}\".format(time.strftime(\"%H:%M:%S\", time.gmtime(ticks_end))))\n",
        "# print(\"Duration: {}\".format(ticks_end - ticks_start)+\"s\")"
      ],
      "execution_count": 0,
      "outputs": []
    },
    {
      "metadata": {
        "id": "iLoqqwJ1-uRM",
        "colab_type": "code",
        "outputId": "5de17386-c456-4ea6-aa6a-58edace9598f",
        "colab": {
          "base_uri": "https://localhost:8080/",
          "height": 255
        }
      },
      "cell_type": "code",
      "source": [
        "# Plot the means\n",
        "import matplotlib.pyplot as plt\n",
        "fig = plt.figure()\n",
        "for i in range(K):\n",
        "  plt.subplot(3,4,i+1)\n",
        "  plt.imshow(mu[:,i].reshape((28,28)), cmap='gray', interpolation='none')\n",
        "  plt.xticks([])\n",
        "  plt.yticks([])"
      ],
      "execution_count": 66,
      "outputs": [
        {
          "output_type": "display_data",
          "data": {
            "image/png": "[encoded data removed]",
            "text/plain": [
              "<Figure size 432x288 with 10 Axes>"
            ]
          },
          "metadata": {
            "tags": []
          }
        }
      ]
    },
    {
      "metadata": {
        "id": "a0jbelMFC8cr",
        "colab_type": "code",
        "outputId": "837a6959-aa25-4849-ef18-38890805599e",
        "colab": {
          "base_uri": "https://localhost:8080/",
          "height": 34
        }
      },
      "cell_type": "code",
      "source": [
        "# Test\n",
        "x_t = np.transpose(x_test)\n",
        "# x_test D*N\n",
        "n = x_t.shape[1]\n",
        "x_t = x_t / np.linalg.norm(x_t,axis = 0)\n",
        "labels = np.array([9,6,7,2,1,8,0,4,5,3])\n",
        "temp = np.matmul(A,x_t)\n",
        "test_k = np.argmax(temp, axis=0)\n",
        "res = np.zeros(n)\n",
        "for i in range(n):\n",
        "  res[i] = labels[test_k[i]]\n",
        "poe = np.sum(res != y_test)/ n\n",
        "print(\"Probability of error is {}\".format(poe))\n",
        "old_mu = mu\n"
      ],
      "execution_count": 65,
      "outputs": [
        {
          "output_type": "stream",
          "text": [
            "Probability of error is 0.4438\n"
          ],
          "name": "stdout"
        }
      ]
    },
    {
      "metadata": {
        "id": "U00z_0n8smNv",
        "colab_type": "text"
      },
      "cell_type": "markdown",
      "source": [
        "# **PCA + k Means p = 6**\n"
      ]
    },
    {
      "metadata": {
        "id": "GPT2WCwEDUAj",
        "colab_type": "code",
        "colab": {
          "base_uri": "https://localhost:8080/",
          "height": 34
        },
        "outputId": "84505d16-f79a-468e-d797-5b595cf5bc17"
      },
      "cell_type": "code",
      "source": [
        "# PCA\n",
        "p = 6\n",
        "\n",
        "N = 10000\n",
        "sample_idx = np.random.choice(x_train.shape[0], N, replace=False)\n",
        "x_sample = x_train[sample_idx]\n",
        "y_sample = y_train[sample_idx]\n",
        "D = x_sample.shape[1]\n",
        "one_vec = np.ones((N,1), dtype = int)\n",
        "M = np.eye(N) - (one_vec @ np.transpose(one_vec)) / N\n",
        "\n",
        "mean = np.ones(N) @ x_sample\n",
        "mean /= N\n",
        "\n",
        "# temp = np.transpose(x_sample)\n",
        "# temp = temp @ M\n",
        "# temp = temp @ x_sample\n",
        "# Sig = temp/N\n",
        "# Sig = (np.transpose(x_train) @ (M) @ x_train) /N\n",
        "# Center the data\n",
        "x_c = x_sample.copy()\n",
        "for i in range(N):\n",
        "  x_c[i] -= mean\n",
        "x_c_temp = x_c\n",
        "  \n",
        "# Compute Covariance\n",
        "Sig = np.zeros((D,D))\n",
        "for i in range(N):\n",
        "  Sig += x_c[i].reshape(784,1) @ x_c[i].reshape(1,784)\n",
        "Sig = Sig / N\n",
        "\n",
        "# Compute Eigvalues \n",
        "w, v = np.linalg.eigh(Sig)\n",
        "w = w[::-1]\n",
        "v = v[:,::-1]\n",
        "print(\"p={}\".format(p))\n",
        "phi = np.transpose(v[:,0:p])\n",
        "# phi P*D\n",
        "\n",
        "# K-means\n",
        "K = 10\n",
        "z = np.matmul(phi, np.transpose(x_sample) @ M)\n",
        "z = z / np.linalg.norm(z,axis = 0)\n",
        "# mu = z[:,np.random.choice(N,K,replace=False)]\n",
        "mu = z[:,choice]\n",
        "mu = mu / np.linalg.norm(mu,axis = 0)\n",
        "for iters in range(1000) :\n",
        "  A = np.transpose(mu)\n",
        "  # A K*P\n",
        "  code = np.matmul(A,z)\n",
        "  # code K*N\n",
        "  k = np.argmax(code, axis=0)\n",
        "  new_mu = np.zeros((p,K))\n",
        "  for i in range(N):\n",
        "    new_mu[:,k[i]] = new_mu[:,k[i]] + z[:,i]\n",
        "  # new_mu P*K  \n",
        "  for i in range(K):\n",
        "    new_mu[:,i] = new_mu[:,i] / np.sum(k == i)\n",
        "  mu = new_mu / np.linalg.norm(new_mu,axis = 0)\n",
        "  B = mu\n",
        "\n",
        "\n",
        "       \n",
        "       \n",
        "       "
      ],
      "execution_count": 6,
      "outputs": [
        {
          "output_type": "stream",
          "text": [
            "p=6\n"
          ],
          "name": "stdout"
        }
      ]
    },
    {
      "metadata": {
        "id": "WmScFA-5OBrr",
        "colab_type": "code",
        "colab": {
          "base_uri": "https://localhost:8080/",
          "height": 255
        },
        "outputId": "940869cf-edcb-4bb8-b31f-3fc32103abd2"
      },
      "cell_type": "code",
      "source": [
        "# Plot the means\n",
        "import matplotlib.pyplot as plt\n",
        "fig = plt.figure()\n",
        "for i in range(K):\n",
        "  plt.subplot(3,4,i+1)\n",
        "  x_r = np.matmul(np.transpose(phi),mu[:,i]) + mean\n",
        "  plt.imshow(x_r.reshape((28,28)), cmap='gray', interpolation='none')\n",
        "  plt.xticks([])\n",
        "  plt.yticks([])"
      ],
      "execution_count": 7,
      "outputs": [
        {
          "output_type": "display_data",
          "data": {
            "image/png": "[encoded data removed]",
            "text/plain": [
              "<Figure size 432x288 with 10 Axes>"
            ]
          },
          "metadata": {
            "tags": []
          }
        }
      ]
    },
    {
      "metadata": {
        "id": "QHYx-1RfN-xb",
        "colab_type": "code",
        "colab": {
          "base_uri": "https://localhost:8080/",
          "height": 204
        },
        "outputId": "11108a79-1885-41e5-e36b-7b5ab9e3480b"
      },
      "cell_type": "code",
      "source": [
        "# Test\n",
        "n = x_test.shape[0]\n",
        "one_vec = np.ones(n).reshape(n,1)\n",
        "M = np.eye(n) - (one_vec @ np.transpose(one_vec)) / n\n",
        "z_test = np.matmul(phi, np.transpose(x_test) @ M)\n",
        "z_test = z_test / np.linalg.norm(z_test,axis = 0)\n",
        "test_code = np.matmul(A,z_test)\n",
        "test_k = np.argmax(test_code, axis=0)     \n",
        "\n",
        "labels = np.array([8,9,5,4,1,7,3,2,0,6])\n",
        "\n",
        "  \n",
        "res = np.zeros(n)\n",
        "for i in range(n):\n",
        "  res[i] = labels[test_k[i]]\n",
        "for j in range(K):\n",
        "  poe = 1 - np.sum((res == j) & (y_test == j)) / np.sum(y_test == j)\n",
        "  print(\"Probability of error of class {0} is {1}\".format(j,poe))\n",
        "poe = np.sum(res != y_test)/ n\n",
        "print(\"Probability of error is {}\".format(poe))"
      ],
      "execution_count": 11,
      "outputs": [
        {
          "output_type": "stream",
          "text": [
            "Probability of error of class 0 is 0.11224489795918369\n",
            "Probability of error of class 1 is 0.048458149779735726\n",
            "Probability of error of class 2 is 0.3914728682170543\n",
            "Probability of error of class 3 is 0.5108910891089109\n",
            "Probability of error of class 4 is 0.6934826883910388\n",
            "Probability of error of class 5 is 0.7477578475336323\n",
            "Probability of error of class 6 is 0.35803757828810023\n",
            "Probability of error of class 7 is 0.5389105058365758\n",
            "Probability of error of class 8 is 0.608829568788501\n",
            "Probability of error of class 9 is 0.5173439048562933\n",
            "Probability of error is 0.4445\n"
          ],
          "name": "stdout"
        }
      ]
    },
    {
      "metadata": {
        "colab_type": "text",
        "id": "Oi1Oj7D5s2Uz"
      },
      "cell_type": "markdown",
      "source": [
        "# **PCA + k Means p = 25**\n"
      ]
    },
    {
      "metadata": {
        "colab_type": "code",
        "outputId": "a3994f90-a59d-400d-c9bc-42a45baa93c2",
        "id": "Oc-fnL3ks2U1",
        "colab": {
          "base_uri": "https://localhost:8080/",
          "height": 34
        }
      },
      "cell_type": "code",
      "source": [
        "# PCA\n",
        "p = 25\n",
        "\n",
        "N = 10000\n",
        "sample_idx = np.random.choice(x_train.shape[0], N, replace=False)\n",
        "x_sample = x_train[sample_idx]\n",
        "y_sample = y_train[sample_idx]\n",
        "D = x_sample.shape[1]\n",
        "one_vec = np.ones((N,1), dtype = int)\n",
        "M = np.eye(N) - (one_vec @ np.transpose(one_vec)) / N\n",
        "\n",
        "mean = np.ones(N) @ x_sample\n",
        "mean /= N\n",
        "\n",
        "# temp = np.transpose(x_sample)\n",
        "# temp = temp @ M\n",
        "# temp = temp @ x_sample\n",
        "# Sig = temp/N\n",
        "# Sig = (np.transpose(x_train) @ (M) @ x_train) /N\n",
        "# Center the data\n",
        "x_c = x_sample.copy()\n",
        "for i in range(N):\n",
        "  x_c[i] -= mean\n",
        "x_c_temp = x_c\n",
        "  \n",
        "# Compute Covariance\n",
        "Sig = np.zeros((D,D))\n",
        "for i in range(N):\n",
        "  Sig += x_c[i].reshape(784,1) @ x_c[i].reshape(1,784)\n",
        "Sig = Sig / N\n",
        "\n",
        "# Compute Eigvalues \n",
        "w, v = np.linalg.eigh(Sig)\n",
        "w = w[::-1]\n",
        "v = v[:,::-1]\n",
        "print(\"p={}\".format(p))\n",
        "phi = np.transpose(v[:,0:p])\n",
        "# phi P*D\n",
        "\n",
        "# K-means\n",
        "K = 10\n",
        "z = np.matmul(phi, np.transpose(x_sample) @ M)\n",
        "z = z / np.linalg.norm(z,axis = 0)\n",
        "# mu = z[:,np.random.choice(N,K,replace=False)]\n",
        "mu = z[:,choice]\n",
        "mu = mu / np.linalg.norm(mu,axis = 0)\n",
        "for iters in range(1000) :\n",
        "  A = np.transpose(mu)\n",
        "  # A K*P\n",
        "  code = np.matmul(A,z)\n",
        "  # code K*N\n",
        "  k = np.argmax(code, axis=0)\n",
        "  new_mu = np.zeros((p,K))\n",
        "  for i in range(N):\n",
        "    new_mu[:,k[i]] = new_mu[:,k[i]] + z[:,i]\n",
        "  # new_mu P*K  \n",
        "  for i in range(K):\n",
        "    new_mu[:,i] = new_mu[:,i] / np.sum(k == i)\n",
        "  mu = new_mu / np.linalg.norm(new_mu,axis = 0)\n",
        "  B = mu\n",
        "\n",
        "\n",
        "       \n",
        "       \n",
        "       "
      ],
      "execution_count": 12,
      "outputs": [
        {
          "output_type": "stream",
          "text": [
            "p=25\n"
          ],
          "name": "stdout"
        }
      ]
    },
    {
      "metadata": {
        "colab_type": "code",
        "outputId": "02fb10b6-403c-4b93-9c8e-8af8fd030835",
        "id": "-ppvT_fJs2U4",
        "colab": {
          "base_uri": "https://localhost:8080/",
          "height": 255
        }
      },
      "cell_type": "code",
      "source": [
        "# Plot the means\n",
        "import matplotlib.pyplot as plt\n",
        "fig = plt.figure()\n",
        "for i in range(K):\n",
        "  plt.subplot(3,4,i+1)\n",
        "  x_r = np.matmul(np.transpose(phi),mu[:,i]) + mean\n",
        "  plt.imshow(x_r.reshape((28,28)), cmap='gray', interpolation='none')\n",
        "  plt.xticks([])\n",
        "  plt.yticks([])"
      ],
      "execution_count": 14,
      "outputs": [
        {
          "output_type": "display_data",
          "data": {
            "image/png": "[encoded data removed]",
            "text/plain": [
              "<Figure size 432x288 with 10 Axes>"
            ]
          },
          "metadata": {
            "tags": []
          }
        }
      ]
    },
    {
      "metadata": {
        "colab_type": "code",
        "outputId": "fb521011-79cf-4b1e-9b24-58d3f4787ef1",
        "id": "PxUs82Qps2U7",
        "colab": {
          "base_uri": "https://localhost:8080/",
          "height": 204
        }
      },
      "cell_type": "code",
      "source": [
        "# Test\n",
        "n = x_test.shape[0]\n",
        "one_vec = np.ones(n).reshape(n,1)\n",
        "M = np.eye(n) - (one_vec @ np.transpose(one_vec)) / n\n",
        "z_test = np.matmul(phi, np.transpose(x_test) @ M)\n",
        "z_test = z_test / np.linalg.norm(z_test,axis = 0)\n",
        "test_code = np.matmul(A,z_test)\n",
        "test_k = np.argmax(test_code, axis=0)     \n",
        "\n",
        "labels = np.array([1,2,3,9,5,6,4,0,8,7])\n",
        "\n",
        "  \n",
        "res = np.zeros(n)\n",
        "for i in range(n):\n",
        "  res[i] = labels[test_k[i]]\n",
        "for j in range(K):\n",
        "  poe = 1 - np.sum((res == j) & (y_test == j)) / np.sum(y_test == j)\n",
        "  print(\"Probability of error of class {0} is {1}\".format(j,poe))\n",
        "poe = np.sum(res != y_test)/ n\n",
        "print(\"Probability of error is {}\".format(poe))"
      ],
      "execution_count": 19,
      "outputs": [
        {
          "output_type": "stream",
          "text": [
            "Probability of error of class 0 is 0.0836734693877551\n",
            "Probability of error of class 1 is 0.43524229074889864\n",
            "Probability of error of class 2 is 0.312984496124031\n",
            "Probability of error of class 3 is 0.31089108910891095\n",
            "Probability of error of class 4 is 0.6089613034623218\n",
            "Probability of error of class 5 is 0.8542600896860987\n",
            "Probability of error of class 6 is 0.1951983298538622\n",
            "Probability of error of class 7 is 0.6011673151750972\n",
            "Probability of error of class 8 is 0.4537987679671458\n",
            "Probability of error of class 9 is 0.5569871159563924\n",
            "Probability of error is 0.4382\n"
          ],
          "name": "stdout"
        }
      ]
    },
    {
      "metadata": {
        "colab_type": "text",
        "id": "7zxw55FYs6jb"
      },
      "cell_type": "markdown",
      "source": [
        "# **PCA + k Means p = 86**\n"
      ]
    },
    {
      "metadata": {
        "colab_type": "code",
        "outputId": "ad119066-7730-4bea-a9e0-0a2749cde489",
        "id": "nTDz54Qjs6jc",
        "colab": {
          "base_uri": "https://localhost:8080/",
          "height": 34
        }
      },
      "cell_type": "code",
      "source": [
        "# PCA\n",
        "p = 86\n",
        "\n",
        "N = 10000\n",
        "sample_idx = np.random.choice(x_train.shape[0], N, replace=False)\n",
        "x_sample = x_train[sample_idx]\n",
        "y_sample = y_train[sample_idx]\n",
        "D = x_sample.shape[1]\n",
        "one_vec = np.ones((N,1), dtype = int)\n",
        "M = np.eye(N) - (one_vec @ np.transpose(one_vec)) / N\n",
        "\n",
        "mean = np.ones(N) @ x_sample\n",
        "mean /= N\n",
        "\n",
        "# temp = np.transpose(x_sample)\n",
        "# temp = temp @ M\n",
        "# temp = temp @ x_sample\n",
        "# Sig = temp/N\n",
        "# Sig = (np.transpose(x_train) @ (M) @ x_train) /N\n",
        "# Center the data\n",
        "x_c = x_sample.copy()\n",
        "for i in range(N):\n",
        "  x_c[i] -= mean\n",
        "x_c_temp = x_c\n",
        "  \n",
        "# Compute Covariance\n",
        "Sig = np.zeros((D,D))\n",
        "for i in range(N):\n",
        "  Sig += x_c[i].reshape(784,1) @ x_c[i].reshape(1,784)\n",
        "Sig = Sig / N\n",
        "\n",
        "# Compute Eigvalues \n",
        "w, v = np.linalg.eigh(Sig)\n",
        "w = w[::-1]\n",
        "v = v[:,::-1]\n",
        "print(\"p={}\".format(p))\n",
        "phi = np.transpose(v[:,0:p])\n",
        "# phi P*D\n",
        "\n",
        "# K-means\n",
        "K = 10\n",
        "z = np.matmul(phi, np.transpose(x_sample) @ M)\n",
        "z = z / np.linalg.norm(z,axis = 0)\n",
        "# mu = z[:,np.random.choice(N,K,replace=False)]\n",
        "mu = z[:,choice]\n",
        "mu = mu / np.linalg.norm(mu,axis = 0)\n",
        "for iters in range(1000) :\n",
        "  A = np.transpose(mu)\n",
        "  # A K*P\n",
        "  code = np.matmul(A,z)\n",
        "  # code K*N\n",
        "  k = np.argmax(code, axis=0)\n",
        "  new_mu = np.zeros((p,K))\n",
        "  for i in range(N):\n",
        "    new_mu[:,k[i]] = new_mu[:,k[i]] + z[:,i]\n",
        "  # new_mu P*K  \n",
        "  for i in range(K):\n",
        "    new_mu[:,i] = new_mu[:,i] / np.sum(k == i)\n",
        "  mu = new_mu / np.linalg.norm(new_mu,axis = 0)\n",
        "  B = mu\n",
        "\n",
        "\n",
        "       \n",
        "       \n",
        "       "
      ],
      "execution_count": 20,
      "outputs": [
        {
          "output_type": "stream",
          "text": [
            "p=86\n"
          ],
          "name": "stdout"
        }
      ]
    },
    {
      "metadata": {
        "colab_type": "code",
        "outputId": "9807697f-3675-4fc4-a3d4-fd395ffbadee",
        "id": "Ep0ka1cBs6jf",
        "colab": {
          "base_uri": "https://localhost:8080/",
          "height": 255
        }
      },
      "cell_type": "code",
      "source": [
        "# Plot the means\n",
        "import matplotlib.pyplot as plt\n",
        "fig = plt.figure()\n",
        "for i in range(K):\n",
        "  plt.subplot(3,4,i+1)\n",
        "  x_r = np.matmul(np.transpose(phi),mu[:,i]) + mean\n",
        "  plt.imshow(x_r.reshape((28,28)), cmap='gray', interpolation='none')\n",
        "  plt.xticks([])\n",
        "  plt.yticks([])"
      ],
      "execution_count": 21,
      "outputs": [
        {
          "output_type": "display_data",
          "data": {
            "image/png": "[encoded data removed]",
            "text/plain": [
              "<Figure size 432x288 with 10 Axes>"
            ]
          },
          "metadata": {
            "tags": []
          }
        }
      ]
    },
    {
      "metadata": {
        "colab_type": "code",
        "outputId": "ecb04c85-934e-4190-9829-4a86821284ca",
        "id": "ouFT1Yl1s6jk",
        "colab": {
          "base_uri": "https://localhost:8080/",
          "height": 204
        }
      },
      "cell_type": "code",
      "source": [
        "# Test\n",
        "n = x_test.shape[0]\n",
        "one_vec = np.ones(n).reshape(n,1)\n",
        "M = np.eye(n) - (one_vec @ np.transpose(one_vec)) / n\n",
        "z_test = np.matmul(phi, np.transpose(x_test) @ M)\n",
        "z_test = z_test / np.linalg.norm(z_test,axis = 0)\n",
        "test_code = np.matmul(A,z_test)\n",
        "test_k = np.argmax(test_code, axis=0)     \n",
        "\n",
        "labels = np.array([4,0,6,9,7,2,1,3,5,8])\n",
        "\n",
        "  \n",
        "res = np.zeros(n)\n",
        "for i in range(n):\n",
        "  res[i] = labels[test_k[i]]\n",
        "for j in range(K):\n",
        "  poe = 1 - np.sum((res == j) & (y_test == j)) / np.sum(y_test == j)\n",
        "  print(\"Probability of error of class {0} is {1}\".format(j,poe))\n",
        "poe = np.sum(res != y_test)/ n\n",
        "print(\"Probability of error is {}\".format(poe))"
      ],
      "execution_count": 22,
      "outputs": [
        {
          "output_type": "stream",
          "text": [
            "Probability of error of class 0 is 0.09183673469387754\n",
            "Probability of error of class 1 is 0.029074889867841458\n",
            "Probability of error of class 2 is 0.2906976744186046\n",
            "Probability of error of class 3 is 0.3227722772277227\n",
            "Probability of error of class 4 is 0.5835030549898167\n",
            "Probability of error of class 5 is 0.8183856502242153\n",
            "Probability of error of class 6 is 0.17536534446764096\n",
            "Probability of error of class 7 is 0.41245136186770426\n",
            "Probability of error of class 8 is 0.47946611909650927\n",
            "Probability of error of class 9 is 0.5460852329038652\n",
            "Probability of error is 0.3662\n"
          ],
          "name": "stdout"
        }
      ]
    },
    {
      "metadata": {
        "colab_type": "text",
        "id": "AyOKoTj5s88d"
      },
      "cell_type": "markdown",
      "source": [
        "# **PCA + k Means p = 100**\n"
      ]
    },
    {
      "metadata": {
        "colab_type": "code",
        "outputId": "053c9cb0-7ddf-4f93-f701-5863e3e3cef8",
        "id": "M4gj5jUxs88e",
        "colab": {
          "base_uri": "https://localhost:8080/",
          "height": 34
        }
      },
      "cell_type": "code",
      "source": [
        "# PCA\n",
        "p = 100\n",
        "\n",
        "N = 10000\n",
        "sample_idx = np.random.choice(x_train.shape[0], N, replace=False)\n",
        "x_sample = x_train[sample_idx]\n",
        "y_sample = y_train[sample_idx]\n",
        "D = x_sample.shape[1]\n",
        "one_vec = np.ones((N,1), dtype = int)\n",
        "M = np.eye(N) - (one_vec @ np.transpose(one_vec)) / N\n",
        "\n",
        "mean = np.ones(N) @ x_sample\n",
        "mean /= N\n",
        "\n",
        "# temp = np.transpose(x_sample)\n",
        "# temp = temp @ M\n",
        "# temp = temp @ x_sample\n",
        "# Sig = temp/N\n",
        "# Sig = (np.transpose(x_train) @ (M) @ x_train) /N\n",
        "# Center the data\n",
        "x_c = x_sample.copy()\n",
        "for i in range(N):\n",
        "  x_c[i] -= mean\n",
        "x_c_temp = x_c\n",
        "  \n",
        "# Compute Covariance\n",
        "Sig = np.zeros((D,D))\n",
        "for i in range(N):\n",
        "  Sig += x_c[i].reshape(784,1) @ x_c[i].reshape(1,784)\n",
        "Sig = Sig / N\n",
        "\n",
        "# Compute Eigvalues \n",
        "w, v = np.linalg.eigh(Sig)\n",
        "w = w[::-1]\n",
        "v = v[:,::-1]\n",
        "print(\"p={}\".format(p))\n",
        "phi = np.transpose(v[:,0:p])\n",
        "# phi P*D\n",
        "\n",
        "# K-means\n",
        "K = 10\n",
        "z = np.matmul(phi, np.transpose(x_sample) @ M)\n",
        "z = z / np.linalg.norm(z,axis = 0)\n",
        "# mu = z[:,np.random.choice(N,K,replace=False)]\n",
        "mu = z[:,choice]\n",
        "mu = mu / np.linalg.norm(mu,axis = 0)\n",
        "for iters in range(5000) :\n",
        "  A = np.transpose(mu)\n",
        "  # A K*P\n",
        "  code = np.matmul(A,z)\n",
        "  # code K*N\n",
        "  k = np.argmax(code, axis=0)\n",
        "  new_mu = np.zeros((p,K))\n",
        "  for i in range(N):\n",
        "    new_mu[:,k[i]] = new_mu[:,k[i]] + z[:,i]\n",
        "  # new_mu P*K  \n",
        "  for i in range(K):\n",
        "    new_mu[:,i] = new_mu[:,i] / np.sum(k == i)\n",
        "  mu = new_mu / np.linalg.norm(new_mu,axis = 0)\n",
        "  B = mu\n",
        "\n",
        "\n",
        "       \n",
        "       \n",
        "       "
      ],
      "execution_count": 42,
      "outputs": [
        {
          "output_type": "stream",
          "text": [
            "p=100\n"
          ],
          "name": "stdout"
        }
      ]
    },
    {
      "metadata": {
        "colab_type": "code",
        "outputId": "daeef9df-67e9-4624-8be1-8aa688911f74",
        "id": "ouNS7osps88j",
        "colab": {
          "base_uri": "https://localhost:8080/",
          "height": 255
        }
      },
      "cell_type": "code",
      "source": [
        "# Plot the means\n",
        "import matplotlib.pyplot as plt\n",
        "fig = plt.figure()\n",
        "for i in range(K):\n",
        "  plt.subplot(3,4,i+1)\n",
        "  x_r = np.matmul(np.transpose(phi),mu[:,i]) + mean\n",
        "  plt.imshow(x_r.reshape((28,28)), cmap='gray', interpolation='none')\n",
        "  plt.xticks([])\n",
        "  plt.yticks([])"
      ],
      "execution_count": 43,
      "outputs": [
        {
          "output_type": "display_data",
          "data": {
            "image/png": "[encoded data removed]",
            "text/plain": [
              "<Figure size 432x288 with 10 Axes>"
            ]
          },
          "metadata": {
            "tags": []
          }
        }
      ]
    },
    {
      "metadata": {
        "colab_type": "code",
        "outputId": "780146f6-6e68-4079-b0e1-2599b5e015af",
        "id": "tXwqgThgs88l",
        "colab": {
          "base_uri": "https://localhost:8080/",
          "height": 204
        }
      },
      "cell_type": "code",
      "source": [
        "# Test\n",
        "n = x_test.shape[0]\n",
        "one_vec = np.ones(n).reshape(n,1)\n",
        "M = np.eye(n) - (one_vec @ np.transpose(one_vec)) / n\n",
        "z_test = np.matmul(phi, np.transpose(x_test) @ M)\n",
        "z_test = z_test / np.linalg.norm(z_test,axis = 0)\n",
        "test_code = np.matmul(A,z_test)\n",
        "test_k = np.argmax(test_code, axis=0)     \n",
        "\n",
        "labels = np.array([5,2,9,3,6,0,7,4,8,1])\n",
        "\n",
        "  \n",
        "res = np.zeros(n)\n",
        "for i in range(n):\n",
        "  res[i] = labels[test_k[i]]\n",
        "for j in range(K):\n",
        "  poe = 1 - np.sum((res == j) & (y_test == j)) / np.sum(y_test == j)\n",
        "  print(\"Probability of error of class {0} is {1}\".format(j,poe))\n",
        "poe = np.sum(res != y_test)/ n\n",
        "print(\"Probability of error is {}\".format(poe))"
      ],
      "execution_count": 47,
      "outputs": [
        {
          "output_type": "stream",
          "text": [
            "Probability of error of class 0 is 0.30102040816326525\n",
            "Probability of error of class 1 is 0.4361233480176211\n",
            "Probability of error of class 2 is 0.29941860465116277\n",
            "Probability of error of class 3 is 0.29900990099009905\n",
            "Probability of error of class 4 is 0.45621181262729127\n",
            "Probability of error of class 5 is 0.7533632286995515\n",
            "Probability of error of class 6 is 0.2359081419624217\n",
            "Probability of error of class 7 is 0.433852140077821\n",
            "Probability of error of class 8 is 0.4229979466119097\n",
            "Probability of error of class 9 is 0.9841427155599604\n",
            "Probability of error is 0.4598\n"
          ],
          "name": "stdout"
        }
      ]
    }
  ]
}